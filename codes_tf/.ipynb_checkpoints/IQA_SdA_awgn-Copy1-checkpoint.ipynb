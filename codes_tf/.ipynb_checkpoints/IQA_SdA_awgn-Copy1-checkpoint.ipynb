{
 "cells": [
  {
   "cell_type": "code",
   "execution_count": 1,
   "metadata": {
    "collapsed": false,
    "deletable": true,
    "editable": true,
    "scrolled": true
   },
   "outputs": [],
   "source": [
    "# Importing required libraries\n",
    "from __future__ import division, print_function, absolute_import\n",
    "\n",
    "import tensorflow as tf\n",
    "import numpy as np\n",
    "import matplotlib.pyplot as plt\n",
    "import utils\n",
    "import math\n",
    "import scipy.io"
   ]
  },
  {
   "cell_type": "code",
   "execution_count": 2,
   "metadata": {
    "collapsed": false,
    "deletable": true,
    "editable": true,
    "scrolled": true
   },
   "outputs": [
    {
     "name": "stderr",
     "output_type": "stream",
     "text": [
      "Using TensorFlow backend.\n"
     ]
    }
   ],
   "source": [
    "# Loading the dataset\n",
    "from keras.datasets import cifar10\n",
    "(x_train, y_train), (x_test, y_test) = cifar10.load_data()"
   ]
  },
  {
   "cell_type": "code",
   "execution_count": 3,
   "metadata": {
    "collapsed": false,
    "deletable": true,
    "editable": true,
    "scrolled": false
   },
   "outputs": [
    {
     "name": "stdout",
     "output_type": "stream",
     "text": [
      "5000/50000 images done!\n",
      "10000/50000 images done!\n",
      "15000/50000 images done!\n",
      "20000/50000 images done!\n",
      "25000/50000 images done!\n",
      "30000/50000 images done!\n",
      "35000/50000 images done!\n",
      "40000/50000 images done!\n",
      "45000/50000 images done!\n",
      "50000/50000 images done!\n",
      "Adding AWGN done!\n"
     ]
    }
   ],
   "source": [
    "x_train_clean, x_train_dist = utils.cifar10_awgn(x_train)"
   ]
  },
  {
   "cell_type": "code",
   "execution_count": 4,
   "metadata": {
    "collapsed": false,
    "deletable": true,
    "editable": true,
    "scrolled": false
   },
   "outputs": [
    {
     "name": "stdout",
     "output_type": "stream",
     "text": [
      "5000/10000 images done!\n",
      "10000/10000 images done!\n",
      "Adding AWGN done!\n"
     ]
    }
   ],
   "source": [
    "x_test_clean, x_test_dist = utils.cifar10_awgn(x_test)"
   ]
  },
  {
   "cell_type": "code",
   "execution_count": 5,
   "metadata": {
    "collapsed": false,
    "deletable": true,
    "editable": true,
    "scrolled": true
   },
   "outputs": [
    {
     "data": {
      "text/plain": [
       "((250000, 3072), (250000, 3072), (50000, 3072), (50000, 3072))"
      ]
     },
     "execution_count": 5,
     "metadata": {},
     "output_type": "execute_result"
    }
   ],
   "source": [
    "x_train_clean.shape, x_train_dist.shape, x_test_clean.shape, x_test_dist.shape"
   ]
  },
  {
   "cell_type": "code",
   "execution_count": 7,
   "metadata": {
    "collapsed": false,
    "deletable": true,
    "editable": true
   },
   "outputs": [],
   "source": [
    "def autoencoder(dims=[32*32*3, 2000, 1000, 500]):\n",
    "    \"\"\"Build a deep denoising autoencoder w/ tied weights.\n",
    "    Parameters\n",
    "    ----------\n",
    "    dimensions : list, optional\n",
    "        The number of neurons for each layer of the autoencoder.\n",
    "    Returns\n",
    "    -------\n",
    "    x : Tensor\n",
    "        Input placeholder to the network\n",
    "    z : Tensor\n",
    "        Inner-most latent representation\n",
    "    y : Tensor\n",
    "        Output reconstruction of the input\n",
    "    cost : Tensor\n",
    "        Overall cost to use for training\n",
    "    \"\"\"\n",
    "    # input to the network\n",
    "    with tf.device('/gpu:0'):\n",
    "        X = tf.placeholder(tf.float32, [None, dims[0]], name='X')\n",
    "        tilda_X = tf.placeholder(tf.float32, [None, dims[0]], name='tilda_X')\n",
    "\n",
    "    # Build the encoder\n",
    "    encoder = []\n",
    "    current_input = tilda_X\n",
    "    for layer_i, n_output in enumerate(dims[1:]):\n",
    "        n_input = int(current_input.get_shape()[1])\n",
    "        with tf.device('/gpu:0'):\n",
    "            W = tf.Variable(\n",
    "                tf.random_uniform([n_input, n_output],\n",
    "                                  -1.0 / math.sqrt(n_input),\n",
    "                                  1.0 / math.sqrt(n_input)))\n",
    "            b = tf.Variable(tf.zeros([n_output]))\n",
    "            output = tf.nn.tanh(tf.matmul(current_input, W) + b)            \n",
    "        encoder.append(W)\n",
    "        current_input = output\n",
    "    # latent representation\n",
    "    z = current_input\n",
    "    encoder.reverse()\n",
    "    # Build the decoder using the same weights\n",
    "    for layer_i, n_output in enumerate(dims[:-1][::-1]):\n",
    "        with tf.device('/gpu:0'):\n",
    "            W = tf.transpose(encoder[layer_i])\n",
    "            b = tf.Variable(tf.zeros([n_output]))\n",
    "            output = tf.nn.tanh(tf.matmul(current_input, W) + b)\n",
    "        current_input = output\n",
    "    # now have the reconstruction through the network\n",
    "    y = current_input\n",
    "    # cost function measures pixel-wise difference\n",
    "    with tf.device('/gpu:0'):\n",
    "        cost = tf.sqrt(tf.reduce_mean(tf.square(y - X)))\n",
    "    return {'x': X, 'z': z, 'y': y,\n",
    "            'cost': cost}"
   ]
  },
  {
   "cell_type": "code",
   "execution_count": 8,
   "metadata": {
    "collapsed": false,
    "deletable": true,
    "editable": true,
    "scrolled": true
   },
   "outputs": [
    {
     "ename": "KeyError",
     "evalue": "'X'",
     "output_type": "error",
     "traceback": [
      "\u001b[0;31m---------------------------------------------------------------------------\u001b[0m",
      "\u001b[0;31mKeyError\u001b[0m                                  Traceback (most recent call last)",
      "\u001b[0;32m<ipython-input-8-f894df0163e1>\u001b[0m in \u001b[0;36m<module>\u001b[0;34m()\u001b[0m\n\u001b[1;32m     38\u001b[0m \u001b[0;34m\u001b[0m\u001b[0m\n\u001b[1;32m     39\u001b[0m \u001b[0;32mif\u001b[0m \u001b[0m__name__\u001b[0m \u001b[0;34m==\u001b[0m \u001b[0;34m'__main__'\u001b[0m\u001b[0;34m:\u001b[0m\u001b[0;34m\u001b[0m\u001b[0m\n\u001b[0;32m---> 40\u001b[0;31m     \u001b[0mtest_cifar10\u001b[0m\u001b[0;34m(\u001b[0m\u001b[0;34m)\u001b[0m\u001b[0;34m\u001b[0m\u001b[0m\n\u001b[0m",
      "\u001b[0;32m<ipython-input-8-f894df0163e1>\u001b[0m in \u001b[0;36mtest_cifar10\u001b[0;34m()\u001b[0m\n\u001b[1;32m     20\u001b[0m                                                               x_train_dist)\n\u001b[1;32m     21\u001b[0m             _, c = sess.run([optimizer, ae['cost']],\n\u001b[0;32m---> 22\u001b[0;31m                             feed_dict={ae['X']: batch_x,\n\u001b[0m\u001b[1;32m     23\u001b[0m                                        ae['tilda_X']: batch_tilda_x})\n\u001b[1;32m     24\u001b[0m     \u001b[0;31m# Display logs per epoch step\u001b[0m\u001b[0;34m\u001b[0m\u001b[0;34m\u001b[0m\u001b[0m\n",
      "\u001b[0;31mKeyError\u001b[0m: 'X'"
     ]
    }
   ],
   "source": [
    "def test_cifar10():\n",
    "# Creating an instance of autoencoder\n",
    "    ae = autoencoder(dims=[32*32*3, 2000, 1000, 500])\n",
    "# Parameters\n",
    "    training_epochs = 20\n",
    "    batch_size = 256\n",
    "    learning_rate = 10^(-7)\n",
    "    display_step = 1\n",
    "    examples_to_show = 15\n",
    "    optimizer = tf.train.AdamOptimizer(learning_rate).minimize(ae['cost'])\n",
    "# We create a session to use the graph\n",
    "    sess = tf.Session()\n",
    "    sess.run(tf.global_variables_initializer())\n",
    "# Fit all training data\n",
    "    no_batches = x_train_clean.shape[0]//batch_size\n",
    "    for epoch in range(training_epochs):\n",
    "        for batch in range(no_batches):\n",
    "            batch_x, batch_tilda_x = utils.cifar10_next_batch(batch_size,\n",
    "                                                              x_train_clean,\n",
    "                                                              x_train_dist)\n",
    "            _, c = sess.run([optimizer, ae['cost']],\n",
    "                            feed_dict={ae['X']: batch_x,\n",
    "                                       ae['tilda_X']: batch_tilda_x})\n",
    "    # Display logs per epoch step\n",
    "    if epoch % display_step == 0:\n",
    "        print(\"Epoch:\", '%04d' % (epoch+1),\n",
    "              \"cost=\", \"{:.9f}\".format(c))\n",
    "    recon = sess.run(ae['y'], feed_dict={ae['X']: x_test_clean[:examples_to_show],\n",
    "                                         ae['tilda_X']: x_test_dist[:examples_to_show]})\n",
    "    f, a = plt.subplots(3, n_examples, figsize=(examples_to_show, 3))\n",
    "    for i in range(examples_to_show):\n",
    "        a[0][i].imshow(np.reshape(x_test_clean[i], (32, 32, 3)))\n",
    "        a[1][i].imshow(np.reshape(x_test_dist[i], (32, 32, 3)))\n",
    "        a[2][i].imshow(np.reshape(recon[i], (32, 32, 3)))\n",
    "    plt.draw()\n",
    "    plt.savefig('cifar10_saves/awgn_test_vis.png')\n",
    "    plt.show()\n",
    "\n",
    "if __name__ == '__main__':\n",
    "    test_cifar10()"
   ]
  },
  {
   "cell_type": "code",
   "execution_count": null,
   "metadata": {
    "collapsed": false,
    "deletable": true,
    "editable": true,
    "scrolled": true
   },
   "outputs": [],
   "source": [
    "params = scipy.io.loadmat('cifar10_saves/params_awgn.mat')\n",
    "W = params['W_enc'][0]\n",
    "vis_w = visualize(W.T, [32, 32], [1, 1], [7, 7], 1)\n",
    "plt.imshow(vis_w, cmap='gray')\n",
    "plt.draw()\n",
    "#plt.savefig('saves/awgn_weights_vis.png')\n",
    "plt.show()"
   ]
  },
  {
   "cell_type": "code",
   "execution_count": null,
   "metadata": {
    "collapsed": false,
    "deletable": true,
    "editable": true,
    "scrolled": true
   },
   "outputs": [],
   "source": [
    "# Compare original images with their reconstructions\n",
    "f, a = plt.subplots(3, examples_to_show, figsize=(10, examples_to_show))\n",
    "for i in range(examples_to_show):\n",
    "    a[0][i].imshow(np.reshape(x_test_clean[i], (32, 32, 3)))\n",
    "    a[1][i].imshow(np.reshape(x_test_dist[i], (32, 32, 3)))\n",
    "    a[2][i].imshow(np.reshape(recon[i], (32, 32, 3)))\n",
    "plt.draw()\n",
    "#plt.savefig('saves/awgn_test_vis.png')\n",
    "plt.show()"
   ]
  }
 ],
 "metadata": {
  "kernelspec": {
   "display_name": "Python 2",
   "language": "python",
   "name": "python2"
  },
  "language_info": {
   "codemirror_mode": {
    "name": "ipython",
    "version": 2
   },
   "file_extension": ".py",
   "mimetype": "text/x-python",
   "name": "python",
   "nbconvert_exporter": "python",
   "pygments_lexer": "ipython2",
   "version": "2.7.6"
  }
 },
 "nbformat": 4,
 "nbformat_minor": 2
}
