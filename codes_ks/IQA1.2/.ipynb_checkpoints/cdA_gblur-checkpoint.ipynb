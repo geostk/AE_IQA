{
 "cells": [
  {
   "cell_type": "code",
   "execution_count": 1,
   "metadata": {
    "scrolled": true
   },
   "outputs": [
    {
     "name": "stderr",
     "output_type": "stream",
     "text": [
      "Using TensorFlow backend.\n"
     ]
    }
   ],
   "source": [
    "import tensorflow as tf\n",
    "import numpy as np\n",
    "import math\n",
    "import utils\n",
    "\n",
    "import matplotlib.pyplot as plt\n",
    "import matplotlib.image as mpimg\n",
    "\n",
    "import keras.backend.tensorflow_backend as KTF\n",
    "KTF.set_session(utils.get_session())"
   ]
  },
  {
   "cell_type": "code",
   "execution_count": 5,
   "metadata": {
    "collapsed": true,
    "scrolled": true
   },
   "outputs": [],
   "source": [
    "import keras\n",
    "from keras.datasets import cifar10\n",
    "(x_train, _), (x_test, _) = cifar10.load_data()"
   ]
  },
  {
   "cell_type": "code",
   "execution_count": 6,
   "metadata": {
    "scrolled": true
   },
   "outputs": [
    {
     "data": {
      "text/plain": [
       "((50000, 32, 32, 3), (10000, 32, 32, 3))"
      ]
     },
     "execution_count": 6,
     "metadata": {},
     "output_type": "execute_result"
    }
   ],
   "source": [
    "x_train.shape, x_test.shape"
   ]
  },
  {
   "cell_type": "code",
   "execution_count": 7,
   "metadata": {
    "collapsed": true
   },
   "outputs": [],
   "source": [
    "x_train = x_train.astype('float32') / 255.\n",
    "x_test = x_test.astype('float32') / 255.\n",
    "x_train = np.reshape(x_train, (len(x_train), 32, 32, 3))  # adapt this if using `channels_first` image data format\n",
    "x_test = np.reshape(x_test, (len(x_test), 32, 32, 3))  # adapt this if using `channels_first` image data format"
   ]
  },
  {
   "cell_type": "code",
   "execution_count": 8,
   "metadata": {
    "scrolled": true
   },
   "outputs": [
    {
     "name": "stdout",
     "output_type": "stream",
     "text": [
      "5000/50000 images done!\n",
      "10000/50000 images done!\n",
      "15000/50000 images done!\n",
      "20000/50000 images done!\n",
      "25000/50000 images done!\n",
      "30000/50000 images done!\n",
      "35000/50000 images done!\n",
      "40000/50000 images done!\n",
      "45000/50000 images done!\n",
      "50000/50000 images done!\n",
      "Adding GBLUR done!\n",
      "5000/10000 images done!\n",
      "10000/10000 images done!\n",
      "Adding GBLUR done!\n"
     ]
    }
   ],
   "source": [
    "# Adding GBLUR\n",
    "x_train, x_train_noisy = utils.cifar10_gblur(x_train)\n",
    "x_test, x_test_noisy = utils.cifar10_gblur(x_test)"
   ]
  },
  {
   "cell_type": "code",
   "execution_count": 11,
   "metadata": {},
   "outputs": [
    {
     "data": {
      "text/plain": [
       "((650000, 32, 32, 3),\n",
       " (650000, 32, 32, 3),\n",
       " (130000, 32, 32, 3),\n",
       " (130000, 32, 32, 3))"
      ]
     },
     "execution_count": 11,
     "metadata": {},
     "output_type": "execute_result"
    }
   ],
   "source": [
    "x_train.shape, x_train_noisy.shape, x_test.shape, x_test_noisy.shape\n",
    "#% matplotlib inline"
   ]
  },
  {
   "cell_type": "code",
   "execution_count": 18,
   "metadata": {
    "scrolled": false
   },
   "outputs": [
    {
     "data": {
      "image/png": "[encoded data removed]",
      "text/plain": [
       "<matplotlib.figure.Figure at 0x7f1c6c8ab7d0>"
      ]
     },
     "metadata": {},
     "output_type": "display_data"
    }
   ],
   "source": [
    "# Displaying noisy images\n",
    "n = 10\n",
    "plt.figure(figsize=(20, 4))\n",
    "for i in range(1, n):\n",
    "    # display original\n",
    "    ax = plt.subplot(2, n, i)\n",
    "    plt.imshow(x_train[i+4*13*150].reshape(32, 32, 3))\n",
    "    ax.get_xaxis().set_visible(False)\n",
    "    ax.get_yaxis().set_visible(False)\n",
    "\n",
    "    # display reconstruction\n",
    "    ax = plt.subplot(2, n, i + n)\n",
    "    plt.imshow(x_train_noisy[i+4*13*150].reshape(32, 32, 3))\n",
    "    ax.get_xaxis().set_visible(False)\n",
    "    ax.get_yaxis().set_visible(False)\n",
    "plt.show()"
   ]
  },
  {
   "cell_type": "code",
   "execution_count": 2,
   "metadata": {
    "collapsed": true
   },
   "outputs": [],
   "source": [
    "import keras\n",
    "from keras import losses\n",
    "from keras.models import Model, load_model\n",
    "from keras.layers import Input, Dense, Conv2D, MaxPooling2D, UpSampling2D, concatenate\n",
    "\n",
    "L = 5  # Total number of layers\n",
    "S = 2  # Number of shared layers\n",
    "F = [16, 32, 64, 128, 256]     # Number of clean filters including input\n",
    "\n",
    "# Clean different encoding layers\n",
    "inp = Input(shape=(32, 32, 3))\n",
    "enc = inp\n",
    "for i in range(L-S):\n",
    "    enc = Conv2D(F[i], (3, 3), activation='relu', padding='same', strides=(2, 2))(enc)\n",
    "\n",
    "clean_diff_enc = Model(inputs=[inp], outputs=[enc])\n",
    "clean_diff_enc.compile(optimizer='adadelta', loss='mean_squared_error')\n",
    "\n",
    "# Distorted different encoding layers\n",
    "inp = Input(shape=(32, 32, 3))\n",
    "enc = inp\n",
    "for i in range(L-S):\n",
    "    enc = Conv2D(F[i], (3, 3), activation='relu', padding='same', strides=(2, 2))(enc)\n",
    "\n",
    "dist_diff_enc = Model(inputs=[inp], outputs=[enc])\n",
    "dist_diff_enc.compile(optimizer='adadelta', loss='mean_squared_error')\n",
    "\n",
    "# Shared Encoding Layers\n",
    "inp = Input(shape=(4, 4, F[L-S-1]))\n",
    "enc = inp\n",
    "for i in range(L-S, L):\n",
    "    enc = Conv2D(F[i], (3, 3), activation='relu', padding='same', strides=(2, 2))(enc)\n",
    "\n",
    "comm_enc = Model(inputs=[inp], outputs=[enc])\n",
    "comm_enc.compile(optimizer='adadelta', loss='mean_squared_error')\n",
    "\n",
    "# Shared Decoding Layers\n",
    "inp = Input(shape=(1, 1, F[L-1]))\n",
    "dec = inp\n",
    "for i in range(L-S-1, L-1)[::-1]:\n",
    "    dec = UpSampling2D((2, 2))(dec)\n",
    "    dec = Conv2D(F[i], (3, 3), activation='relu', padding='same')(dec)\n",
    "comm_dec = Model(inputs=[inp], outputs=[dec])\n",
    "comm_dec.compile(optimizer='adadelta', loss='mean_squared_error')\n",
    "\n",
    "# Clean different decoding layers\n",
    "inp = Input(shape=(4, 4, F[L-S-1]))\n",
    "dec = inp\n",
    "for i in range(-1,L-S)[::-1]:\n",
    "    if i == -1:\n",
    "        recon = Conv2D(3, (3, 3), activation='relu', padding='same')(dec)\n",
    "    else:\n",
    "        dec = UpSampling2D((2, 2))(dec)\n",
    "        dec = Conv2D(F[i], (3, 3), activation='relu', padding='same')(dec)\n",
    "clean_diff_dec = Model(inputs=[inp], outputs=[recon])\n",
    "clean_diff_dec.compile(optimizer='adadelta', loss='mean_squared_error')\n",
    "\n",
    "# Distorted different decoding layers\n",
    "inp = Input(shape=(4, 4, F[L-S-1]))\n",
    "dec = inp\n",
    "for i in range(-1,L-S)[::-1]:\n",
    "    if i == -1:\n",
    "        recon = Conv2D(3, (3, 3), activation='relu', padding='same')(dec)\n",
    "    else:\n",
    "        dec = UpSampling2D((2, 2))(dec)\n",
    "        dec = Conv2D(F[i], (3, 3), activation='relu', padding='same')(dec)\n",
    "dist_diff_dec = Model(inputs=[inp], outputs=[recon])\n",
    "dist_diff_dec.compile(optimizer='adadelta', loss='mean_squared_error')\n",
    "\n",
    "# clean input\n",
    "clean_input = Input(shape = (32, 32, 3))\n",
    "clean_pred = clean_diff_dec(comm_dec(comm_enc(clean_diff_enc(clean_input))))\n",
    "\n",
    "# distorted Input\n",
    "dist_input = Input(shape = (32, 32, 3))\n",
    "dist_pred = dist_diff_dec(comm_dec(comm_enc(dist_diff_enc(dist_input))))\n",
    "\n",
    "# IQA Model\n",
    "IQA_model = Model(inputs=[clean_input, dist_input], outputs=[clean_pred, dist_pred])\n",
    "IQA_model.compile(optimizer='adadelta', loss='mean_squared_error')"
   ]
  },
  {
   "cell_type": "code",
   "execution_count": 3,
   "metadata": {},
   "outputs": [
    {
     "name": "stdout",
     "output_type": "stream",
     "text": [
      "Fontconfig warning: ignoring UTF-8: not a valid region tag\n",
      "\n"
     ]
    },
    {
     "data": {
      "image/svg+xml": [
       "<svg height=\"387pt\" viewBox=\"0.00 0.00 608.00 387.00\" width=\"608pt\" xmlns=\"http://www.w3.org/2000/svg\" xmlns:xlink=\"http://www.w3.org/1999/xlink\">\n",
       "<g class=\"graph\" id=\"graph0\" transform=\"scale(1 1) rotate(0) translate(4 383)\">\n",
       "<title>G</title>\n",
       "<polygon fill=\"white\" points=\"-4,4 -4,-383 604,-383 604,4 -4,4\" stroke=\"none\"/>\n",
       "<!-- 139762065480720 -->\n",
       "<g class=\"node\" id=\"node1\"><title>139762065480720</title>\n",
       "<polygon fill=\"none\" points=\"0,-332.5 0,-378.5 291,-378.5 291,-332.5 0,-332.5\" stroke=\"black\"/>\n",
       "<text font-family=\"Times,serif\" font-size=\"14.00\" text-anchor=\"middle\" x=\"62.5\" y=\"-351.8\">input_7: InputLayer</text>\n",
       "<polyline fill=\"none\" points=\"125,-332.5 125,-378.5 \" stroke=\"black\"/>\n",
       "<text font-family=\"Times,serif\" font-size=\"14.00\" text-anchor=\"middle\" x=\"152.5\" y=\"-363.3\">input:</text>\n",
       "<polyline fill=\"none\" points=\"125,-355.5 180,-355.5 \" stroke=\"black\"/>\n",
       "<text font-family=\"Times,serif\" font-size=\"14.00\" text-anchor=\"middle\" x=\"152.5\" y=\"-340.3\">output:</text>\n",
       "<polyline fill=\"none\" points=\"180,-332.5 180,-378.5 \" stroke=\"black\"/>\n",
       "<text font-family=\"Times,serif\" font-size=\"14.00\" text-anchor=\"middle\" x=\"235.5\" y=\"-363.3\">(None, 32, 32, 3)</text>\n",
       "<polyline fill=\"none\" points=\"180,-355.5 291,-355.5 \" stroke=\"black\"/>\n",
       "<text font-family=\"Times,serif\" font-size=\"14.00\" text-anchor=\"middle\" x=\"235.5\" y=\"-340.3\">(None, 32, 32, 3)</text>\n",
       "</g>\n",
       "<!-- 139762397260752 -->\n",
       "<g class=\"node\" id=\"node3\"><title>139762397260752</title>\n",
       "<polygon fill=\"none\" points=\"12.5,-249.5 12.5,-295.5 286.5,-295.5 286.5,-249.5 12.5,-249.5\" stroke=\"black\"/>\n",
       "<text font-family=\"Times,serif\" font-size=\"14.00\" text-anchor=\"middle\" x=\"66.5\" y=\"-268.8\">model_1: Model</text>\n",
       "<polyline fill=\"none\" points=\"120.5,-249.5 120.5,-295.5 \" stroke=\"black\"/>\n",
       "<text font-family=\"Times,serif\" font-size=\"14.00\" text-anchor=\"middle\" x=\"148\" y=\"-280.3\">input:</text>\n",
       "<polyline fill=\"none\" points=\"120.5,-272.5 175.5,-272.5 \" stroke=\"black\"/>\n",
       "<text font-family=\"Times,serif\" font-size=\"14.00\" text-anchor=\"middle\" x=\"148\" y=\"-257.3\">output:</text>\n",
       "<polyline fill=\"none\" points=\"175.5,-249.5 175.5,-295.5 \" stroke=\"black\"/>\n",
       "<text font-family=\"Times,serif\" font-size=\"14.00\" text-anchor=\"middle\" x=\"231\" y=\"-280.3\">(None, 32, 32, 3)</text>\n",
       "<polyline fill=\"none\" points=\"175.5,-272.5 286.5,-272.5 \" stroke=\"black\"/>\n",
       "<text font-family=\"Times,serif\" font-size=\"14.00\" text-anchor=\"middle\" x=\"231\" y=\"-257.3\">(None, 4, 4, 64)</text>\n",
       "</g>\n",
       "<!-- 139762065480720&#45;&gt;139762397260752 -->\n",
       "<g class=\"edge\" id=\"edge1\"><title>139762065480720-&gt;139762397260752</title>\n",
       "<path d=\"M146.593,-332.366C146.999,-324.152 147.468,-314.658 147.909,-305.725\" fill=\"none\" stroke=\"black\"/>\n",
       "<polygon fill=\"black\" points=\"151.411,-305.767 148.408,-295.607 144.419,-305.422 151.411,-305.767\" stroke=\"black\"/>\n",
       "</g>\n",
       "<!-- 139762065055376 -->\n",
       "<g class=\"node\" id=\"node2\"><title>139762065055376</title>\n",
       "<polygon fill=\"none\" points=\"309,-332.5 309,-378.5 600,-378.5 600,-332.5 309,-332.5\" stroke=\"black\"/>\n",
       "<text font-family=\"Times,serif\" font-size=\"14.00\" text-anchor=\"middle\" x=\"371.5\" y=\"-351.8\">input_8: InputLayer</text>\n",
       "<polyline fill=\"none\" points=\"434,-332.5 434,-378.5 \" stroke=\"black\"/>\n",
       "<text font-family=\"Times,serif\" font-size=\"14.00\" text-anchor=\"middle\" x=\"461.5\" y=\"-363.3\">input:</text>\n",
       "<polyline fill=\"none\" points=\"434,-355.5 489,-355.5 \" stroke=\"black\"/>\n",
       "<text font-family=\"Times,serif\" font-size=\"14.00\" text-anchor=\"middle\" x=\"461.5\" y=\"-340.3\">output:</text>\n",
       "<polyline fill=\"none\" points=\"489,-332.5 489,-378.5 \" stroke=\"black\"/>\n",
       "<text font-family=\"Times,serif\" font-size=\"14.00\" text-anchor=\"middle\" x=\"544.5\" y=\"-363.3\">(None, 32, 32, 3)</text>\n",
       "<polyline fill=\"none\" points=\"489,-355.5 600,-355.5 \" stroke=\"black\"/>\n",
       "<text font-family=\"Times,serif\" font-size=\"14.00\" text-anchor=\"middle\" x=\"544.5\" y=\"-340.3\">(None, 32, 32, 3)</text>\n",
       "</g>\n",
       "<!-- 139762197981840 -->\n",
       "<g class=\"node\" id=\"node4\"><title>139762197981840</title>\n",
       "<polygon fill=\"none\" points=\"312.5,-249.5 312.5,-295.5 586.5,-295.5 586.5,-249.5 312.5,-249.5\" stroke=\"black\"/>\n",
       "<text font-family=\"Times,serif\" font-size=\"14.00\" text-anchor=\"middle\" x=\"366.5\" y=\"-268.8\">model_2: Model</text>\n",
       "<polyline fill=\"none\" points=\"420.5,-249.5 420.5,-295.5 \" stroke=\"black\"/>\n",
       "<text font-family=\"Times,serif\" font-size=\"14.00\" text-anchor=\"middle\" x=\"448\" y=\"-280.3\">input:</text>\n",
       "<polyline fill=\"none\" points=\"420.5,-272.5 475.5,-272.5 \" stroke=\"black\"/>\n",
       "<text font-family=\"Times,serif\" font-size=\"14.00\" text-anchor=\"middle\" x=\"448\" y=\"-257.3\">output:</text>\n",
       "<polyline fill=\"none\" points=\"475.5,-249.5 475.5,-295.5 \" stroke=\"black\"/>\n",
       "<text font-family=\"Times,serif\" font-size=\"14.00\" text-anchor=\"middle\" x=\"531\" y=\"-280.3\">(None, 32, 32, 3)</text>\n",
       "<polyline fill=\"none\" points=\"475.5,-272.5 586.5,-272.5 \" stroke=\"black\"/>\n",
       "<text font-family=\"Times,serif\" font-size=\"14.00\" text-anchor=\"middle\" x=\"531\" y=\"-257.3\">(None, 4, 4, 64)</text>\n",
       "</g>\n",
       "<!-- 139762065055376&#45;&gt;139762197981840 -->\n",
       "<g class=\"edge\" id=\"edge2\"><title>139762065055376-&gt;139762197981840</title>\n",
       "<path d=\"M453.134,-332.366C452.627,-324.152 452.041,-314.658 451.489,-305.725\" fill=\"none\" stroke=\"black\"/>\n",
       "<polygon fill=\"black\" points=\"454.974,-305.372 450.865,-295.607 447.987,-305.804 454.974,-305.372\" stroke=\"black\"/>\n",
       "</g>\n",
       "<!-- 139762196985168 -->\n",
       "<g class=\"node\" id=\"node5\"><title>139762196985168</title>\n",
       "<polygon fill=\"none\" points=\"162.5,-166.5 162.5,-212.5 436.5,-212.5 436.5,-166.5 162.5,-166.5\" stroke=\"black\"/>\n",
       "<text font-family=\"Times,serif\" font-size=\"14.00\" text-anchor=\"middle\" x=\"216.5\" y=\"-185.8\">model_3: Model</text>\n",
       "<polyline fill=\"none\" points=\"270.5,-166.5 270.5,-212.5 \" stroke=\"black\"/>\n",
       "<text font-family=\"Times,serif\" font-size=\"14.00\" text-anchor=\"middle\" x=\"298\" y=\"-197.3\">input:</text>\n",
       "<polyline fill=\"none\" points=\"270.5,-189.5 325.5,-189.5 \" stroke=\"black\"/>\n",
       "<text font-family=\"Times,serif\" font-size=\"14.00\" text-anchor=\"middle\" x=\"298\" y=\"-174.3\">output:</text>\n",
       "<polyline fill=\"none\" points=\"325.5,-166.5 325.5,-212.5 \" stroke=\"black\"/>\n",
       "<text font-family=\"Times,serif\" font-size=\"14.00\" text-anchor=\"middle\" x=\"381\" y=\"-197.3\">(None, 4, 4, 64)</text>\n",
       "<polyline fill=\"none\" points=\"325.5,-189.5 436.5,-189.5 \" stroke=\"black\"/>\n",
       "<text font-family=\"Times,serif\" font-size=\"14.00\" text-anchor=\"middle\" x=\"381\" y=\"-174.3\">(None, 1, 1, 256)</text>\n",
       "</g>\n",
       "<!-- 139762397260752&#45;&gt;139762196985168 -->\n",
       "<g class=\"edge\" id=\"edge3\"><title>139762397260752-&gt;139762196985168</title>\n",
       "<path d=\"M190.488,-249.366C208.76,-239.5 230.448,-227.788 249.649,-217.419\" fill=\"none\" stroke=\"black\"/>\n",
       "<polygon fill=\"black\" points=\"251.425,-220.438 258.561,-212.607 248.099,-214.279 251.425,-220.438\" stroke=\"black\"/>\n",
       "</g>\n",
       "<!-- 139762197981840&#45;&gt;139762196985168 -->\n",
       "<g class=\"edge\" id=\"edge4\"><title>139762197981840-&gt;139762196985168</title>\n",
       "<path d=\"M408.512,-249.366C390.24,-239.5 368.552,-227.788 349.351,-217.419\" fill=\"none\" stroke=\"black\"/>\n",
       "<polygon fill=\"black\" points=\"350.901,-214.279 340.439,-212.607 347.575,-220.438 350.901,-214.279\" stroke=\"black\"/>\n",
       "</g>\n",
       "<!-- 139762196293648 -->\n",
       "<g class=\"node\" id=\"node6\"><title>139762196293648</title>\n",
       "<polygon fill=\"none\" points=\"162.5,-83.5 162.5,-129.5 436.5,-129.5 436.5,-83.5 162.5,-83.5\" stroke=\"black\"/>\n",
       "<text font-family=\"Times,serif\" font-size=\"14.00\" text-anchor=\"middle\" x=\"216.5\" y=\"-102.8\">model_4: Model</text>\n",
       "<polyline fill=\"none\" points=\"270.5,-83.5 270.5,-129.5 \" stroke=\"black\"/>\n",
       "<text font-family=\"Times,serif\" font-size=\"14.00\" text-anchor=\"middle\" x=\"298\" y=\"-114.3\">input:</text>\n",
       "<polyline fill=\"none\" points=\"270.5,-106.5 325.5,-106.5 \" stroke=\"black\"/>\n",
       "<text font-family=\"Times,serif\" font-size=\"14.00\" text-anchor=\"middle\" x=\"298\" y=\"-91.3\">output:</text>\n",
       "<polyline fill=\"none\" points=\"325.5,-83.5 325.5,-129.5 \" stroke=\"black\"/>\n",
       "<text font-family=\"Times,serif\" font-size=\"14.00\" text-anchor=\"middle\" x=\"381\" y=\"-114.3\">(None, 1, 1, 256)</text>\n",
       "<polyline fill=\"none\" points=\"325.5,-106.5 436.5,-106.5 \" stroke=\"black\"/>\n",
       "<text font-family=\"Times,serif\" font-size=\"14.00\" text-anchor=\"middle\" x=\"381\" y=\"-91.3\">(None, 4, 4, 64)</text>\n",
       "</g>\n",
       "<!-- 139762196985168&#45;&gt;139762196293648 -->\n",
       "<g class=\"edge\" id=\"edge5\"><title>139762196985168-&gt;139762196293648</title>\n",
       "<path d=\"M299.5,-166.366C299.5,-158.152 299.5,-148.658 299.5,-139.725\" fill=\"none\" stroke=\"black\"/>\n",
       "<polygon fill=\"black\" points=\"303,-139.607 299.5,-129.607 296,-139.607 303,-139.607\" stroke=\"black\"/>\n",
       "</g>\n",
       "<!-- 139762068920656 -->\n",
       "<g class=\"node\" id=\"node7\"><title>139762068920656</title>\n",
       "<polygon fill=\"none\" points=\"16.5,-0.5 16.5,-46.5 290.5,-46.5 290.5,-0.5 16.5,-0.5\" stroke=\"black\"/>\n",
       "<text font-family=\"Times,serif\" font-size=\"14.00\" text-anchor=\"middle\" x=\"70.5\" y=\"-19.8\">model_5: Model</text>\n",
       "<polyline fill=\"none\" points=\"124.5,-0.5 124.5,-46.5 \" stroke=\"black\"/>\n",
       "<text font-family=\"Times,serif\" font-size=\"14.00\" text-anchor=\"middle\" x=\"152\" y=\"-31.3\">input:</text>\n",
       "<polyline fill=\"none\" points=\"124.5,-23.5 179.5,-23.5 \" stroke=\"black\"/>\n",
       "<text font-family=\"Times,serif\" font-size=\"14.00\" text-anchor=\"middle\" x=\"152\" y=\"-8.3\">output:</text>\n",
       "<polyline fill=\"none\" points=\"179.5,-0.5 179.5,-46.5 \" stroke=\"black\"/>\n",
       "<text font-family=\"Times,serif\" font-size=\"14.00\" text-anchor=\"middle\" x=\"235\" y=\"-31.3\">(None, 4, 4, 64)</text>\n",
       "<polyline fill=\"none\" points=\"179.5,-23.5 290.5,-23.5 \" stroke=\"black\"/>\n",
       "<text font-family=\"Times,serif\" font-size=\"14.00\" text-anchor=\"middle\" x=\"235\" y=\"-8.3\">(None, 32, 32, 3)</text>\n",
       "</g>\n",
       "<!-- 139762196293648&#45;&gt;139762068920656 -->\n",
       "<g class=\"edge\" id=\"edge7\"><title>139762196293648-&gt;139762068920656</title>\n",
       "<path d=\"M259.605,-83.3664C241.901,-73.5444 220.902,-61.894 202.275,-51.5602\" fill=\"none\" stroke=\"black\"/>\n",
       "<polygon fill=\"black\" points=\"203.789,-48.3977 193.347,-46.6068 200.393,-54.5188 203.789,-48.3977\" stroke=\"black\"/>\n",
       "</g>\n",
       "<!-- 139762067064592 -->\n",
       "<g class=\"node\" id=\"node8\"><title>139762067064592</title>\n",
       "<polygon fill=\"none\" points=\"308.5,-0.5 308.5,-46.5 582.5,-46.5 582.5,-0.5 308.5,-0.5\" stroke=\"black\"/>\n",
       "<text font-family=\"Times,serif\" font-size=\"14.00\" text-anchor=\"middle\" x=\"362.5\" y=\"-19.8\">model_6: Model</text>\n",
       "<polyline fill=\"none\" points=\"416.5,-0.5 416.5,-46.5 \" stroke=\"black\"/>\n",
       "<text font-family=\"Times,serif\" font-size=\"14.00\" text-anchor=\"middle\" x=\"444\" y=\"-31.3\">input:</text>\n",
       "<polyline fill=\"none\" points=\"416.5,-23.5 471.5,-23.5 \" stroke=\"black\"/>\n",
       "<text font-family=\"Times,serif\" font-size=\"14.00\" text-anchor=\"middle\" x=\"444\" y=\"-8.3\">output:</text>\n",
       "<polyline fill=\"none\" points=\"471.5,-0.5 471.5,-46.5 \" stroke=\"black\"/>\n",
       "<text font-family=\"Times,serif\" font-size=\"14.00\" text-anchor=\"middle\" x=\"527\" y=\"-31.3\">(None, 4, 4, 64)</text>\n",
       "<polyline fill=\"none\" points=\"471.5,-23.5 582.5,-23.5 \" stroke=\"black\"/>\n",
       "<text font-family=\"Times,serif\" font-size=\"14.00\" text-anchor=\"middle\" x=\"527\" y=\"-8.3\">(None, 32, 32, 3)</text>\n",
       "</g>\n",
       "<!-- 139762196293648&#45;&gt;139762067064592 -->\n",
       "<g class=\"edge\" id=\"edge8\"><title>139762196293648-&gt;139762067064592</title>\n",
       "<path d=\"M339.395,-83.3664C357.099,-73.5444 378.098,-61.894 396.725,-51.5602\" fill=\"none\" stroke=\"black\"/>\n",
       "<polygon fill=\"black\" points=\"398.607,-54.5188 405.653,-46.6068 395.211,-48.3977 398.607,-54.5188\" stroke=\"black\"/>\n",
       "</g>\n",
       "</g>\n",
       "</svg>"
      ],
      "text/plain": [
       "<IPython.core.display.SVG object>"
      ]
     },
     "execution_count": 3,
     "metadata": {},
     "output_type": "execute_result"
    }
   ],
   "source": [
    "from IPython.display import SVG\n",
    "from keras.utils.vis_utils import model_to_dot\n",
    "\n",
    "SVG(model_to_dot(IQA_model, show_shapes=True).create(prog='dot', format='svg'))"
   ]
  },
  {
   "cell_type": "code",
   "execution_count": 4,
   "metadata": {},
   "outputs": [
    {
     "name": "stdout",
     "output_type": "stream",
     "text": [
      "Fontconfig warning: ignoring UTF-8: not a valid region tag\n",
      "\n"
     ]
    }
   ],
   "source": [
    "################## Model Flow Diagram ####################\n",
    "from keras.utils import plot_model\n",
    "plot_model(IQA_model, to_file='my_models/cdA_gblur_model.png', show_shapes=True)"
   ]
  },
  {
   "cell_type": "code",
   "execution_count": null,
   "metadata": {
    "collapsed": true
   },
   "outputs": [],
   "source": [
    "from keras.callbacks import TensorBoard\n",
    "import sys\n",
    "IQA_model.fit([x_train, x_train_noisy],\n",
    "              [x_train, x_train_noisy],\n",
    "              epochs=100,\n",
    "#              verbose = 2,\n",
    "              batch_size=256,\n",
    "              shuffle=True,\n",
    "              validation_data=([x_test, x_test_noisy], \n",
    "                               [x_test, x_test_noisy]),\n",
    "              callbacks=[TensorBoard(log_dir='tmp/IQA_model', histogram_freq=0, \n",
    "                                     write_graph=True, write_images=True)])"
   ]
  },
  {
   "cell_type": "code",
   "execution_count": null,
   "metadata": {
    "collapsed": true
   },
   "outputs": [],
   "source": [
    "decoded_imgs = IQA_model.predict([x_test, x_test_noisy])\n",
    "\n",
    "vis_clean = utils.visualize(x_test, [32, 32], [1, 1], [13, 13], color=1, channels='last')\n",
    "vis_dist = utils.visualize(x_test_noisy, [32, 32], [1, 1], [13, 13], color=1, channels='last')\n",
    "vis_clean_filt = utils.visualize(decoded_imgs[0], [32, 32], [1, 1], [13, 13], color=1, channels='last')\n",
    "vis_dist_filt = utils.visualize(decoded_imgs[1], [32, 32], [1, 1], [13, 13], color=1, channels='last')\n",
    "\n",
    "plt.figure(figsize=(15, 15))\n",
    "plt.subplot(2, 2, 1), plt.imshow(vis_clean)\n",
    "plt.subplot(2, 2, 2), plt.imshow(vis_dist)\n",
    "plt.subplot(2, 2, 3), plt.imshow(vis_clean_filt)\n",
    "plt.subplot(2, 2, 4), plt.imshow(vis_dist_filt)\n",
    "plt.show()"
   ]
  }
 ],
 "metadata": {
  "kernelspec": {
   "display_name": "Python 2",
   "language": "python",
   "name": "python2"
  },
  "language_info": {
   "codemirror_mode": {
    "name": "ipython",
    "version": 2
   },
   "file_extension": ".py",
   "mimetype": "text/x-python",
   "name": "python",
   "nbconvert_exporter": "python",
   "pygments_lexer": "ipython2",
   "version": "2.7.13"
  }
 },
 "nbformat": 4,
 "nbformat_minor": 2
}
